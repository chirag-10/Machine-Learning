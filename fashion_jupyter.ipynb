{
 "cells": [
  {
   "cell_type": "code",
   "execution_count": 1,
   "metadata": {},
   "outputs": [
    {
     "name": "stderr",
     "output_type": "stream",
     "text": [
      "D:\\Anaconda\\lib\\site-packages\\tensorflow\\python\\framework\\dtypes.py:526: FutureWarning: Passing (type, 1) or '1type' as a synonym of type is deprecated; in a future version of numpy, it will be understood as (type, (1,)) / '(1,)type'.\n",
      "  _np_qint8 = np.dtype([(\"qint8\", np.int8, 1)])\n",
      "D:\\Anaconda\\lib\\site-packages\\tensorflow\\python\\framework\\dtypes.py:527: FutureWarning: Passing (type, 1) or '1type' as a synonym of type is deprecated; in a future version of numpy, it will be understood as (type, (1,)) / '(1,)type'.\n",
      "  _np_quint8 = np.dtype([(\"quint8\", np.uint8, 1)])\n",
      "D:\\Anaconda\\lib\\site-packages\\tensorflow\\python\\framework\\dtypes.py:528: FutureWarning: Passing (type, 1) or '1type' as a synonym of type is deprecated; in a future version of numpy, it will be understood as (type, (1,)) / '(1,)type'.\n",
      "  _np_qint16 = np.dtype([(\"qint16\", np.int16, 1)])\n",
      "D:\\Anaconda\\lib\\site-packages\\tensorflow\\python\\framework\\dtypes.py:529: FutureWarning: Passing (type, 1) or '1type' as a synonym of type is deprecated; in a future version of numpy, it will be understood as (type, (1,)) / '(1,)type'.\n",
      "  _np_quint16 = np.dtype([(\"quint16\", np.uint16, 1)])\n",
      "D:\\Anaconda\\lib\\site-packages\\tensorflow\\python\\framework\\dtypes.py:530: FutureWarning: Passing (type, 1) or '1type' as a synonym of type is deprecated; in a future version of numpy, it will be understood as (type, (1,)) / '(1,)type'.\n",
      "  _np_qint32 = np.dtype([(\"qint32\", np.int32, 1)])\n",
      "D:\\Anaconda\\lib\\site-packages\\tensorflow\\python\\framework\\dtypes.py:535: FutureWarning: Passing (type, 1) or '1type' as a synonym of type is deprecated; in a future version of numpy, it will be understood as (type, (1,)) / '(1,)type'.\n",
      "  np_resource = np.dtype([(\"resource\", np.ubyte, 1)])\n"
     ]
    }
   ],
   "source": [
    "from tensorflow.keras.datasets import fashion_mnist\n",
    "from tensorflow.keras.models import Sequential\n",
    "from tensorflow.keras.layers import Dense\n",
    "from tensorflow.keras.utils import to_categorical\n"
   ]
  },
  {
   "cell_type": "code",
   "execution_count": 43,
   "metadata": {},
   "outputs": [
    {
     "data": {
      "text/plain": [
       "(60000, 28, 28)"
      ]
     },
     "execution_count": 43,
     "metadata": {},
     "output_type": "execute_result"
    }
   ],
   "source": [
    "(x_train, y_train), (x_test, y_test) = fashion_mnist.load_data()\n",
    "x_train.shape\n"
   ]
  },
  {
   "cell_type": "code",
   "execution_count": 44,
   "metadata": {},
   "outputs": [
    {
     "data": {
      "text/plain": [
       "(60000, 784)"
      ]
     },
     "execution_count": 44,
     "metadata": {},
     "output_type": "execute_result"
    }
   ],
   "source": [
    "x_train = x_train.reshape(x_train.shape[0], -1) / 255.0\n",
    "x_test = x_test.reshape(x_test.shape[0],-1)/255\n",
    "y_train = to_categorical(y_train)\n",
    "y_test = to_categorical(y_test)\n",
    "x_train.shape\n"
   ]
  },
  {
   "cell_type": "code",
   "execution_count": 50,
   "metadata": {},
   "outputs": [],
   "source": [
    "model = Sequential()\n",
    "model.add(Dense(10,input_dim = 784 , activation = 'relu'))\n",
    "model.add(Dense(10,activation = 'softmax'))\n",
    "\n"
   ]
  },
  {
   "cell_type": "code",
   "execution_count": 51,
   "metadata": {},
   "outputs": [
    {
     "data": {
      "text/plain": [
       "(60000, 784)"
      ]
     },
     "execution_count": 51,
     "metadata": {},
     "output_type": "execute_result"
    }
   ],
   "source": [
    "model.compile(loss = 'categorical_crossentropy',optimizer='adam' , metrics = ['accuracy'])\n",
    "x_train.shape\n"
   ]
  },
  {
   "cell_type": "code",
   "execution_count": 52,
   "metadata": {},
   "outputs": [
    {
     "name": "stdout",
     "output_type": "stream",
     "text": [
      "Train on 54000 samples, validate on 6000 samples\n",
      "WARNING:tensorflow:From D:\\Anaconda\\lib\\site-packages\\tensorflow\\python\\ops\\math_ops.py:3066: to_int32 (from tensorflow.python.ops.math_ops) is deprecated and will be removed in a future version.\n",
      "Instructions for updating:\n",
      "Use tf.cast instead.\n",
      "Epoch 1/10\n",
      "54000/54000 [==============================] - 5s 92us/sample - loss: 0.6475 - acc: 0.7810 - val_loss: 0.5183 - val_acc: 0.8152\n",
      "Epoch 2/10\n",
      "54000/54000 [==============================] - 4s 71us/sample - loss: 0.4572 - acc: 0.8409 - val_loss: 0.4299 - val_acc: 0.8495\n",
      "Epoch 3/10\n",
      "54000/54000 [==============================] - 4s 77us/sample - loss: 0.4277 - acc: 0.8499 - val_loss: 0.4427 - val_acc: 0.8443\n",
      "Epoch 4/10\n",
      "54000/54000 [==============================] - 4s 78us/sample - loss: 0.4104 - acc: 0.8553 - val_loss: 0.4043 - val_acc: 0.8593\n",
      "Epoch 5/10\n",
      "54000/54000 [==============================] - 4s 76us/sample - loss: 0.3977 - acc: 0.8601 - val_loss: 0.4168 - val_acc: 0.8575\n",
      "Epoch 6/10\n",
      "54000/54000 [==============================] - 4s 71us/sample - loss: 0.3900 - acc: 0.8621 - val_loss: 0.4008 - val_acc: 0.8560\n",
      "Epoch 7/10\n",
      "54000/54000 [==============================] - 4s 71us/sample - loss: 0.3827 - acc: 0.8649 - val_loss: 0.3869 - val_acc: 0.8662\n",
      "Epoch 8/10\n",
      "54000/54000 [==============================] - 4s 81us/sample - loss: 0.3772 - acc: 0.8669 - val_loss: 0.3976 - val_acc: 0.8638\n",
      "Epoch 9/10\n",
      "54000/54000 [==============================] - 4s 74us/sample - loss: 0.3723 - acc: 0.8678 - val_loss: 0.3995 - val_acc: 0.8642\n",
      "Epoch 10/10\n",
      "54000/54000 [==============================] - 4s 80us/sample - loss: 0.3681 - acc: 0.8706 - val_loss: 0.3982 - val_acc: 0.8623\n"
     ]
    },
    {
     "data": {
      "text/plain": [
       "<tensorflow.python.keras.callbacks.History at 0x17b3ae84a48>"
      ]
     },
     "execution_count": 52,
     "metadata": {},
     "output_type": "execute_result"
    }
   ],
   "source": [
    "model.fit(x_train,y_train,epochs=10,validation_split=0.1)\n",
    "\n"
   ]
  },
  {
   "cell_type": "code",
   "execution_count": 53,
   "metadata": {},
   "outputs": [
    {
     "name": "stdout",
     "output_type": "stream",
     "text": [
      "10000/10000 [==============================] - 0s 38us/sample - loss: 0.4262 - acc: 0.8522\n"
     ]
    }
   ],
   "source": [
    "_,test_acc=model.evaluate(x_test,y_test)"
   ]
  },
  {
   "cell_type": "code",
   "execution_count": 54,
   "metadata": {},
   "outputs": [],
   "source": [
    "model2=Sequential()\n"
   ]
  },
  {
   "cell_type": "code",
   "execution_count": 55,
   "metadata": {},
   "outputs": [],
   "source": [
    "model2.add(Dense(50,input_dim=784,activation='relu'))\n",
    "model2.add(Dense(10,activation='softmax'))\n"
   ]
  },
  {
   "cell_type": "code",
   "execution_count": 56,
   "metadata": {},
   "outputs": [],
   "source": [
    "model2.compile(loss='categorical_crossentropy',optimizer='adam',metrics=['accuracy'])"
   ]
  },
  {
   "cell_type": "code",
   "execution_count": 57,
   "metadata": {},
   "outputs": [
    {
     "name": "stdout",
     "output_type": "stream",
     "text": [
      "Train on 54000 samples, validate on 6000 samples\n",
      "Epoch 1/10\n",
      "54000/54000 [==============================] - 5s 95us/sample - loss: 0.5425 - acc: 0.8131 - val_loss: 0.4203 - val_acc: 0.8518\n",
      "Epoch 2/10\n",
      "54000/54000 [==============================] - 5s 92us/sample - loss: 0.4091 - acc: 0.8557 - val_loss: 0.3840 - val_acc: 0.8645\n",
      "Epoch 3/10\n",
      "54000/54000 [==============================] - 5s 94us/sample - loss: 0.3693 - acc: 0.8671 - val_loss: 0.3649 - val_acc: 0.8735\n",
      "Epoch 4/10\n",
      "54000/54000 [==============================] - 5s 93us/sample - loss: 0.3417 - acc: 0.8776 - val_loss: 0.3529 - val_acc: 0.8725\n",
      "Epoch 5/10\n",
      "54000/54000 [==============================] - 5s 93us/sample - loss: 0.3246 - acc: 0.8808 - val_loss: 0.3406 - val_acc: 0.8747\n",
      "Epoch 6/10\n",
      "54000/54000 [==============================] - 5s 94us/sample - loss: 0.3103 - acc: 0.8869 - val_loss: 0.3655 - val_acc: 0.8695\n",
      "Epoch 7/10\n",
      "54000/54000 [==============================] - 5s 92us/sample - loss: 0.2988 - acc: 0.8904 - val_loss: 0.3412 - val_acc: 0.8770\n",
      "Epoch 8/10\n",
      "54000/54000 [==============================] - 5s 95us/sample - loss: 0.2892 - acc: 0.8939 - val_loss: 0.3242 - val_acc: 0.8818\n",
      "Epoch 9/10\n",
      "54000/54000 [==============================] - 5s 96us/sample - loss: 0.2811 - acc: 0.8969 - val_loss: 0.3406 - val_acc: 0.8763\n",
      "Epoch 10/10\n",
      "54000/54000 [==============================] - 5s 99us/sample - loss: 0.2723 - acc: 0.8993 - val_loss: 0.3470 - val_acc: 0.8727\n"
     ]
    },
    {
     "data": {
      "text/plain": [
       "<tensorflow.python.keras.callbacks.History at 0x17b3c1e67c8>"
      ]
     },
     "execution_count": 57,
     "metadata": {},
     "output_type": "execute_result"
    }
   ],
   "source": [
    "model2.fit(x_train,y_train,epochs=10,validation_split=0.1\n",
    "          )"
   ]
  },
  {
   "cell_type": "code",
   "execution_count": 61,
   "metadata": {},
   "outputs": [
    {
     "name": "stdout",
     "output_type": "stream",
     "text": [
      "10000/10000 [==============================] - 0s 41us/sample - loss: 0.3694 - acc: 0.8684\n"
     ]
    }
   ],
   "source": [
    "_,test_acc=model2.evaluate(x_test,y_test)"
   ]
  },
  {
   "cell_type": "code",
   "execution_count": 62,
   "metadata": {},
   "outputs": [
    {
     "data": {
      "text/plain": [
       "0.8684"
      ]
     },
     "execution_count": 62,
     "metadata": {},
     "output_type": "execute_result"
    }
   ],
   "source": [
    "test_acc\n"
   ]
  },
  {
   "cell_type": "code",
   "execution_count": 65,
   "metadata": {},
   "outputs": [],
   "source": [
    "model3=Sequential()\n",
    "model3.add(Dense(50,input_dim=784,activation='relu'))\n",
    "model3.add(Dense(50,activation='relu'))\n",
    "model3.add(Dense(10,activation='softmax'))\n",
    "model3.compile(loss='categorical_crossentropy',metrics=['accuracy'],optimizer='adam')"
   ]
  },
  {
   "cell_type": "code",
   "execution_count": 66,
   "metadata": {},
   "outputs": [
    {
     "name": "stdout",
     "output_type": "stream",
     "text": [
      "Train on 54000 samples, validate on 6000 samples\n",
      "Epoch 1/10\n",
      "54000/54000 [==============================] - 6s 106us/sample - loss: 0.5256 - acc: 0.8131 - val_loss: 0.4527 - val_acc: 0.8410\n",
      "Epoch 2/10\n",
      "54000/54000 [==============================] - 5s 93us/sample - loss: 0.3904 - acc: 0.8588 - val_loss: 0.3724 - val_acc: 0.8650\n",
      "Epoch 3/10\n",
      "54000/54000 [==============================] - 6s 107us/sample - loss: 0.3530 - acc: 0.8713 - val_loss: 0.3653 - val_acc: 0.8668\n",
      "Epoch 4/10\n",
      "54000/54000 [==============================] - 6s 106us/sample - loss: 0.3313 - acc: 0.8781 - val_loss: 0.3716 - val_acc: 0.8672\n",
      "Epoch 5/10\n",
      "54000/54000 [==============================] - 6s 108us/sample - loss: 0.3158 - acc: 0.8827 - val_loss: 0.3685 - val_acc: 0.8633\n",
      "Epoch 6/10\n",
      "54000/54000 [==============================] - 6s 106us/sample - loss: 0.3034 - acc: 0.8872 - val_loss: 0.3601 - val_acc: 0.8715\n",
      "Epoch 7/10\n",
      "54000/54000 [==============================] - 6s 109us/sample - loss: 0.2877 - acc: 0.8913 - val_loss: 0.3400 - val_acc: 0.8780\n",
      "Epoch 8/10\n",
      "54000/54000 [==============================] - 6s 106us/sample - loss: 0.2828 - acc: 0.8943 - val_loss: 0.3383 - val_acc: 0.8743\n",
      "Epoch 9/10\n",
      "54000/54000 [==============================] - 6s 106us/sample - loss: 0.2714 - acc: 0.8985 - val_loss: 0.3331 - val_acc: 0.8825\n",
      "Epoch 10/10\n",
      "54000/54000 [==============================] - 6s 106us/sample - loss: 0.2642 - acc: 0.9017 - val_loss: 0.3428 - val_acc: 0.8790\n"
     ]
    },
    {
     "data": {
      "text/plain": [
       "<tensorflow.python.keras.callbacks.History at 0x17b3c9394c8>"
      ]
     },
     "execution_count": 66,
     "metadata": {},
     "output_type": "execute_result"
    }
   ],
   "source": [
    "model3.fit(x_train,y_train,epochs=10,validation_split=0.1)"
   ]
  },
  {
   "cell_type": "code",
   "execution_count": 68,
   "metadata": {},
   "outputs": [
    {
     "name": "stdout",
     "output_type": "stream",
     "text": [
      "10000/10000 [==============================] - 0s 43us/sample - loss: 0.3637 - acc: 0.8742\n"
     ]
    }
   ],
   "source": [
    "_,test_acc = model3.evaluate(x_test,y_test)"
   ]
  },
  {
   "cell_type": "code",
   "execution_count": 69,
   "metadata": {},
   "outputs": [
    {
     "data": {
      "text/plain": [
       "0.8742"
      ]
     },
     "execution_count": 69,
     "metadata": {},
     "output_type": "execute_result"
    }
   ],
   "source": [
    "test_acc\n"
   ]
  },
  {
   "cell_type": "code",
   "execution_count": 71,
   "metadata": {},
   "outputs": [
    {
     "name": "stdout",
     "output_type": "stream",
     "text": [
      "_________________________________________________________________\n",
      "Layer (type)                 Output Shape              Param #   \n",
      "=================================================================\n",
      "dense_13 (Dense)             (None, 50)                39250     \n",
      "_________________________________________________________________\n",
      "dense_14 (Dense)             (None, 50)                2550      \n",
      "_________________________________________________________________\n",
      "dense_15 (Dense)             (None, 10)                510       \n",
      "=================================================================\n",
      "Total params: 42,310\n",
      "Trainable params: 42,310\n",
      "Non-trainable params: 0\n",
      "_________________________________________________________________\n"
     ]
    }
   ],
   "source": [
    "model3.summary()\n"
   ]
  },
  {
   "cell_type": "code",
   "execution_count": null,
   "metadata": {},
   "outputs": [],
   "source": []
  }
 ],
 "metadata": {
  "kernelspec": {
   "display_name": "Python 3",
   "language": "python",
   "name": "python3"
  },
  "language_info": {
   "codemirror_mode": {
    "name": "ipython",
    "version": 3
   },
   "file_extension": ".py",
   "mimetype": "text/x-python",
   "name": "python",
   "nbconvert_exporter": "python",
   "pygments_lexer": "ipython3",
   "version": "3.7.6"
  }
 },
 "nbformat": 4,
 "nbformat_minor": 4
}
